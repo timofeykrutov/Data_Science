{
 "cells": [
  {
   "cell_type": "markdown",
   "id": "2699f5dc",
   "metadata": {},
   "source": [
    "Применять среду Coursera "
   ]
  },
  {
   "cell_type": "code",
   "execution_count": null,
   "id": "be8f0f9a",
   "metadata": {},
   "outputs": [],
   "source": [
    "import pandas as pd"
   ]
  },
  {
   "cell_type": "markdown",
   "id": "50bdaf62",
   "metadata": {},
   "source": [
    "В приложенном файле — данные по ежемесячному уровню производства молока в фунтах на одну корову:\n",
    "Загрузите ряд, например, так:\n",
    "и постройте его график. Какой из приведённых ниже графиков у вас получился?"
   ]
  },
  {
   "cell_type": "code",
   "execution_count": 5,
   "id": "8540c984",
   "metadata": {},
   "outputs": [
    {
     "name": "stderr",
     "output_type": "stream",
     "text": [
      "C:\\Users\\Timofey\\anaconda3\\envs\\coursera\\lib\\site-packages\\IPython\\core\\interactiveshell.py:3437: FutureWarning: In a future version of pandas all arguments of read_csv except for the argument 'filepath_or_buffer' will be keyword-only\n",
      "  exec(code_obj, self.user_global_ns, self.user_ns)\n"
     ]
    }
   ],
   "source": [
    "milk = pd.read_csv('monthly-milk-production.csv',';', index_col=['month'], parse_dates=['month'], dayfirst=True)"
   ]
  },
  {
   "cell_type": "code",
   "execution_count": 16,
   "id": "20372940",
   "metadata": {},
   "outputs": [
    {
     "data": {
      "text/html": [
       "<div>\n",
       "<style scoped>\n",
       "    .dataframe tbody tr th:only-of-type {\n",
       "        vertical-align: middle;\n",
       "    }\n",
       "\n",
       "    .dataframe tbody tr th {\n",
       "        vertical-align: top;\n",
       "    }\n",
       "\n",
       "    .dataframe thead th {\n",
       "        text-align: right;\n",
       "    }\n",
       "</style>\n",
       "<table border=\"1\" class=\"dataframe\">\n",
       "  <thead>\n",
       "    <tr style=\"text-align: right;\">\n",
       "      <th></th>\n",
       "      <th>milk</th>\n",
       "    </tr>\n",
       "    <tr>\n",
       "      <th>month</th>\n",
       "      <th></th>\n",
       "    </tr>\n",
       "  </thead>\n",
       "  <tbody>\n",
       "    <tr>\n",
       "      <th>1962-01-01</th>\n",
       "      <td>589</td>\n",
       "    </tr>\n",
       "    <tr>\n",
       "      <th>1962-02-01</th>\n",
       "      <td>561</td>\n",
       "    </tr>\n",
       "    <tr>\n",
       "      <th>1962-03-01</th>\n",
       "      <td>640</td>\n",
       "    </tr>\n",
       "    <tr>\n",
       "      <th>1962-04-01</th>\n",
       "      <td>656</td>\n",
       "    </tr>\n",
       "    <tr>\n",
       "      <th>1962-05-01</th>\n",
       "      <td>727</td>\n",
       "    </tr>\n",
       "    <tr>\n",
       "      <th>...</th>\n",
       "      <td>...</td>\n",
       "    </tr>\n",
       "    <tr>\n",
       "      <th>1975-08-01</th>\n",
       "      <td>858</td>\n",
       "    </tr>\n",
       "    <tr>\n",
       "      <th>1975-09-01</th>\n",
       "      <td>817</td>\n",
       "    </tr>\n",
       "    <tr>\n",
       "      <th>1975-10-01</th>\n",
       "      <td>827</td>\n",
       "    </tr>\n",
       "    <tr>\n",
       "      <th>1975-11-01</th>\n",
       "      <td>797</td>\n",
       "    </tr>\n",
       "    <tr>\n",
       "      <th>1975-12-01</th>\n",
       "      <td>843</td>\n",
       "    </tr>\n",
       "  </tbody>\n",
       "</table>\n",
       "<p>168 rows × 1 columns</p>\n",
       "</div>"
      ],
      "text/plain": [
       "            milk\n",
       "month           \n",
       "1962-01-01   589\n",
       "1962-02-01   561\n",
       "1962-03-01   640\n",
       "1962-04-01   656\n",
       "1962-05-01   727\n",
       "...          ...\n",
       "1975-08-01   858\n",
       "1975-09-01   817\n",
       "1975-10-01   827\n",
       "1975-11-01   797\n",
       "1975-12-01   843\n",
       "\n",
       "[168 rows x 1 columns]"
      ]
     },
     "execution_count": 16,
     "metadata": {},
     "output_type": "execute_result"
    }
   ],
   "source": [
    "milk"
   ]
  },
  {
   "cell_type": "code",
   "execution_count": 7,
   "id": "e2a7c84b",
   "metadata": {},
   "outputs": [],
   "source": [
    "import matplotlib.pyplot as plt"
   ]
  },
  {
   "cell_type": "code",
   "execution_count": 106,
   "id": "984fce40",
   "metadata": {},
   "outputs": [],
   "source": [
    "y = milk['milk']\n",
    "x = range(0,168,1)"
   ]
  },
  {
   "cell_type": "code",
   "execution_count": 104,
   "id": "aeeecd61",
   "metadata": {},
   "outputs": [
    {
     "data": {
      "text/plain": [
       "month\n",
       "1962-01-01    589\n",
       "1962-02-01    561\n",
       "1962-03-01    640\n",
       "1962-04-01    656\n",
       "1962-05-01    727\n",
       "             ... \n",
       "1975-08-01    858\n",
       "1975-09-01    817\n",
       "1975-10-01    827\n",
       "1975-11-01    797\n",
       "1975-12-01    843\n",
       "Name: milk, Length: 168, dtype: int64"
      ]
     },
     "execution_count": 104,
     "metadata": {},
     "output_type": "execute_result"
    }
   ],
   "source": [
    "y"
   ]
  },
  {
   "cell_type": "code",
   "execution_count": 19,
   "id": "0dc93b79",
   "metadata": {},
   "outputs": [
    {
     "data": {
      "text/plain": [
       "[<matplotlib.lines.Line2D at 0x1e04a774f40>]"
      ]
     },
     "execution_count": 19,
     "metadata": {},
     "output_type": "execute_result"
    },
    {
     "data": {
      "image/png": "[encoded data removed]",
      "text/plain": [
       "<Figure size 432x288 with 1 Axes>"
      ]
     },
     "metadata": {
      "needs_background": "light"
     },
     "output_type": "display_data"
    }
   ],
   "source": [
    "plt.plot(x,y,color='b')"
   ]
  },
  {
   "cell_type": "markdown",
   "id": "dd306e30",
   "metadata": {},
   "source": [
    "Вопрос 4\n",
    "Примените к ряду из предыдущего вопроса критерий Дики-Фуллера. Это делается так:"
   ]
  },
  {
   "cell_type": "markdown",
   "id": "394a0cd0",
   "metadata": {},
   "source": [
    "\n",
    "conda install -c anaconda statsmodels\n",
    "https://www.statsmodels.org/dev/generated/statsmodels.tsa.stattools.adfuller.html\n"
   ]
  },
  {
   "cell_type": "code",
   "execution_count": 21,
   "id": "da5073da",
   "metadata": {},
   "outputs": [],
   "source": [
    "import statsmodels.api as sm\n"
   ]
  },
  {
   "cell_type": "markdown",
   "id": "da2bb36f",
   "metadata": {},
   "source": [
    "Чему равен полученный достигаемый уровень значимости? Округлите до двух знаков после десятичной точки."
   ]
  },
  {
   "cell_type": "code",
   "execution_count": 23,
   "id": "f5c584cc",
   "metadata": {},
   "outputs": [
    {
     "data": {
      "text/plain": [
       "(-1.3038115874221312,\n",
       " 0.6274267086030308,\n",
       " 13,\n",
       " 154,\n",
       " {'1%': -3.473542528196209,\n",
       "  '5%': -2.880497674144038,\n",
       "  '10%': -2.576878053634677},\n",
       " 1115.1730447395112)"
      ]
     },
     "execution_count": 23,
     "metadata": {},
     "output_type": "execute_result"
    }
   ],
   "source": [
    "sm.tsa.stattools.adfuller(y)  # !второй! параметр показывает достигаемый уровень значимости "
   ]
  },
  {
   "cell_type": "markdown",
   "id": "d03e1889",
   "metadata": {},
   "source": [
    "## Ответ  0.63"
   ]
  },
  {
   "cell_type": "markdown",
   "id": "b21e0601",
   "metadata": {},
   "source": [
    "#### Вопрос 5\n",
    "Часто, когда вы имеете дело с величинами, представляющими собой сумму значений показателя за каждый день или за каждый рабочий день, имеет смысл перед началом прогнозирования поделить весь ряд на число дней в периоде. Например, если поделить ряд с объёмом производства молока на одну корову на число дней в месяце, полученная величина будет меняться более плавно, и для неё легче будет построить прогнозирующую модель.\n",
    "\n",
    "Корректно определить число дней в месяце можно с помощью свойства days_in_month у индекса ряда или функции monthrange из пакета calendar. Используйте число дней в месяце для того, чтобы вычислить новый показатель — среднее дневное число полученного молока на одну корову. Постройте график этого ряда и убедитесь, что он стал более гладким.\n",
    "\n",
    "В качестве ответа введите сумму значений полученного показателя за весь период; округлите до двух знаков после десятичной точки."
   ]
  },
  {
   "cell_type": "code",
   "execution_count": 81,
   "id": "9cdc054d",
   "metadata": {},
   "outputs": [
    {
     "data": {
      "text/plain": [
       "'1962-02-01'"
      ]
     },
     "execution_count": 81,
     "metadata": {},
     "output_type": "execute_result"
    }
   ],
   "source": [
    "milk.index[1].date().strftime('%Y-%m-%d') # !!!!!!!!  такая функция позволяет получить дату в нужном формате "
   ]
  },
  {
   "cell_type": "code",
   "execution_count": 116,
   "id": "b76a324d",
   "metadata": {},
   "outputs": [
    {
     "data": {
      "text/plain": [
       "589"
      ]
     },
     "execution_count": 116,
     "metadata": {},
     "output_type": "execute_result"
    }
   ],
   "source": [
    "milk.loc[milk.index[0]]['milk'] # получаем значение по индексу "
   ]
  },
  {
   "cell_type": "markdown",
   "id": "3da358ea",
   "metadata": {},
   "source": [
    "Получим число дней в каждом месяце "
   ]
  },
  {
   "cell_type": "code",
   "execution_count": 120,
   "id": "4dfe514f",
   "metadata": {},
   "outputs": [
    {
     "name": "stdout",
     "output_type": "stream",
     "text": [
      "1962-01-01 00:00:00   ---   31 \n",
      "1962-02-01 00:00:00   ---   28 \n",
      "1962-03-01 00:00:00   ---   31 \n",
      "1962-04-01 00:00:00   ---   30 \n",
      "1962-05-01 00:00:00   ---   31 \n",
      "1962-06-01 00:00:00   ---   30 \n",
      "1962-07-01 00:00:00   ---   31 \n",
      "1962-08-01 00:00:00   ---   31 \n",
      "1962-09-01 00:00:00   ---   30 \n",
      "1962-10-01 00:00:00   ---   31 \n",
      "1962-11-01 00:00:00   ---   30 \n",
      "1962-12-01 00:00:00   ---   31 \n",
      "1963-01-01 00:00:00   ---   31 \n",
      "1963-02-01 00:00:00   ---   28 \n",
      "1963-03-01 00:00:00   ---   31 \n",
      "1963-04-01 00:00:00   ---   30 \n",
      "1963-05-01 00:00:00   ---   31 \n",
      "1963-06-01 00:00:00   ---   30 \n",
      "1963-07-01 00:00:00   ---   31 \n",
      "1963-08-01 00:00:00   ---   31 \n",
      "1963-09-01 00:00:00   ---   30 \n",
      "1963-10-01 00:00:00   ---   31 \n",
      "1963-11-01 00:00:00   ---   30 \n",
      "1963-12-01 00:00:00   ---   31 \n",
      "1964-01-01 00:00:00   ---   31 \n",
      "1964-02-01 00:00:00   ---   29 \n",
      "1964-03-01 00:00:00   ---   31 \n",
      "1964-04-01 00:00:00   ---   30 \n",
      "1964-05-01 00:00:00   ---   31 \n",
      "1964-06-01 00:00:00   ---   30 \n",
      "1964-07-01 00:00:00   ---   31 \n",
      "1964-08-01 00:00:00   ---   31 \n",
      "1964-09-01 00:00:00   ---   30 \n",
      "1964-10-01 00:00:00   ---   31 \n",
      "1964-11-01 00:00:00   ---   30 \n",
      "1964-12-01 00:00:00   ---   31 \n",
      "1965-01-01 00:00:00   ---   31 \n",
      "1965-02-01 00:00:00   ---   28 \n",
      "1965-03-01 00:00:00   ---   31 \n",
      "1965-04-01 00:00:00   ---   30 \n",
      "1965-05-01 00:00:00   ---   31 \n",
      "1965-06-01 00:00:00   ---   30 \n",
      "1965-07-01 00:00:00   ---   31 \n",
      "1965-08-01 00:00:00   ---   31 \n",
      "1965-09-01 00:00:00   ---   30 \n",
      "1965-10-01 00:00:00   ---   31 \n",
      "1965-11-01 00:00:00   ---   30 \n",
      "1965-12-01 00:00:00   ---   31 \n",
      "1966-01-01 00:00:00   ---   31 \n",
      "1966-02-01 00:00:00   ---   28 \n",
      "1966-03-01 00:00:00   ---   31 \n",
      "1966-04-01 00:00:00   ---   30 \n",
      "1966-05-01 00:00:00   ---   31 \n",
      "1966-06-01 00:00:00   ---   30 \n",
      "1966-07-01 00:00:00   ---   31 \n",
      "1966-08-01 00:00:00   ---   31 \n",
      "1966-09-01 00:00:00   ---   30 \n",
      "1966-10-01 00:00:00   ---   31 \n",
      "1966-11-01 00:00:00   ---   30 \n",
      "1966-12-01 00:00:00   ---   31 \n",
      "1967-01-01 00:00:00   ---   31 \n",
      "1967-02-01 00:00:00   ---   28 \n",
      "1967-03-01 00:00:00   ---   31 \n",
      "1967-04-01 00:00:00   ---   30 \n",
      "1967-05-01 00:00:00   ---   31 \n",
      "1967-06-01 00:00:00   ---   30 \n",
      "1967-07-01 00:00:00   ---   31 \n",
      "1967-08-01 00:00:00   ---   31 \n",
      "1967-09-01 00:00:00   ---   30 \n",
      "1967-10-01 00:00:00   ---   31 \n",
      "1967-11-01 00:00:00   ---   30 \n",
      "1967-12-01 00:00:00   ---   31 \n",
      "1968-01-01 00:00:00   ---   31 \n",
      "1968-02-01 00:00:00   ---   29 \n",
      "1968-03-01 00:00:00   ---   31 \n",
      "1968-04-01 00:00:00   ---   30 \n",
      "1968-05-01 00:00:00   ---   31 \n",
      "1968-06-01 00:00:00   ---   30 \n",
      "1968-07-01 00:00:00   ---   31 \n",
      "1968-08-01 00:00:00   ---   31 \n",
      "1968-09-01 00:00:00   ---   30 \n",
      "1968-10-01 00:00:00   ---   31 \n",
      "1968-11-01 00:00:00   ---   30 \n",
      "1968-12-01 00:00:00   ---   31 \n",
      "1969-01-01 00:00:00   ---   31 \n",
      "1969-02-01 00:00:00   ---   28 \n",
      "1969-03-01 00:00:00   ---   31 \n",
      "1969-04-01 00:00:00   ---   30 \n",
      "1969-05-01 00:00:00   ---   31 \n",
      "1969-06-01 00:00:00   ---   30 \n",
      "1969-07-01 00:00:00   ---   31 \n",
      "1969-08-01 00:00:00   ---   31 \n",
      "1969-09-01 00:00:00   ---   30 \n",
      "1969-10-01 00:00:00   ---   31 \n",
      "1969-11-01 00:00:00   ---   30 \n",
      "1969-12-01 00:00:00   ---   31 \n",
      "1970-01-01 00:00:00   ---   31 \n",
      "1970-02-01 00:00:00   ---   28 \n",
      "1970-03-01 00:00:00   ---   31 \n",
      "1970-04-01 00:00:00   ---   30 \n",
      "1970-05-01 00:00:00   ---   31 \n",
      "1970-06-01 00:00:00   ---   30 \n",
      "1970-07-01 00:00:00   ---   31 \n",
      "1970-08-01 00:00:00   ---   31 \n",
      "1970-09-01 00:00:00   ---   30 \n",
      "1970-10-01 00:00:00   ---   31 \n",
      "1970-11-01 00:00:00   ---   30 \n",
      "1970-12-01 00:00:00   ---   31 \n",
      "1971-01-01 00:00:00   ---   31 \n",
      "1971-02-01 00:00:00   ---   28 \n",
      "1971-03-01 00:00:00   ---   31 \n",
      "1971-04-01 00:00:00   ---   30 \n",
      "1971-05-01 00:00:00   ---   31 \n",
      "1971-06-01 00:00:00   ---   30 \n",
      "1971-07-01 00:00:00   ---   31 \n",
      "1971-08-01 00:00:00   ---   31 \n",
      "1971-09-01 00:00:00   ---   30 \n",
      "1971-10-01 00:00:00   ---   31 \n",
      "1971-11-01 00:00:00   ---   30 \n",
      "1971-12-01 00:00:00   ---   31 \n",
      "1972-01-01 00:00:00   ---   31 \n",
      "1972-02-01 00:00:00   ---   29 \n",
      "1972-03-01 00:00:00   ---   31 \n",
      "1972-04-01 00:00:00   ---   30 \n",
      "1972-05-01 00:00:00   ---   31 \n",
      "1972-06-01 00:00:00   ---   30 \n",
      "1972-07-01 00:00:00   ---   31 \n",
      "1972-08-01 00:00:00   ---   31 \n",
      "1972-09-01 00:00:00   ---   30 \n",
      "1972-10-01 00:00:00   ---   31 \n",
      "1972-11-01 00:00:00   ---   30 \n",
      "1972-12-01 00:00:00   ---   31 \n",
      "1973-01-01 00:00:00   ---   31 \n",
      "1973-02-01 00:00:00   ---   28 \n",
      "1973-03-01 00:00:00   ---   31 \n",
      "1973-04-01 00:00:00   ---   30 \n",
      "1973-05-01 00:00:00   ---   31 \n",
      "1973-06-01 00:00:00   ---   30 \n",
      "1973-07-01 00:00:00   ---   31 \n",
      "1973-08-01 00:00:00   ---   31 \n",
      "1973-09-01 00:00:00   ---   30 \n",
      "1973-10-01 00:00:00   ---   31 \n",
      "1973-11-01 00:00:00   ---   30 \n",
      "1973-12-01 00:00:00   ---   31 \n",
      "1974-01-01 00:00:00   ---   31 \n",
      "1974-02-01 00:00:00   ---   28 \n",
      "1974-03-01 00:00:00   ---   31 \n",
      "1974-04-01 00:00:00   ---   30 \n",
      "1974-05-01 00:00:00   ---   31 \n",
      "1974-06-01 00:00:00   ---   30 \n",
      "1974-07-01 00:00:00   ---   31 \n",
      "1974-08-01 00:00:00   ---   31 \n",
      "1974-09-01 00:00:00   ---   30 \n",
      "1974-10-01 00:00:00   ---   31 \n",
      "1974-11-01 00:00:00   ---   30 \n",
      "1974-12-01 00:00:00   ---   31 \n",
      "1975-01-01 00:00:00   ---   31 \n",
      "1975-02-01 00:00:00   ---   28 \n",
      "1975-03-01 00:00:00   ---   31 \n",
      "1975-04-01 00:00:00   ---   30 \n",
      "1975-05-01 00:00:00   ---   31 \n",
      "1975-06-01 00:00:00   ---   30 \n",
      "1975-07-01 00:00:00   ---   31 \n",
      "1975-08-01 00:00:00   ---   31 \n",
      "1975-09-01 00:00:00   ---   30 \n",
      "1975-10-01 00:00:00   ---   31 \n",
      "1975-11-01 00:00:00   ---   30 \n",
      "1975-12-01 00:00:00   ---   31 \n"
     ]
    }
   ],
   "source": [
    "old_p = 0 \n",
    "date_array = []\n",
    "p_array = []\n",
    "\n",
    "for i in milk.index:\n",
    "    #print (i.date())\n",
    "    date_array.append(i)\n",
    "    p = pd.Period(i.date().strftime('%Y-%m-%d')).days_in_month\n",
    "    p_array.append(p)\n",
    "    \n",
    "    print ('{}   ---   {} '.format( i , p))\n",
    "    "
   ]
  },
  {
   "cell_type": "code",
   "execution_count": 96,
   "id": "fc58fe45",
   "metadata": {},
   "outputs": [
    {
     "data": {
      "text/plain": [
       "5113"
      ]
     },
     "execution_count": 96,
     "metadata": {},
     "output_type": "execute_result"
    }
   ],
   "source": [
    "summa = sum (p_array, 0)\n",
    "summa"
   ]
  },
  {
   "cell_type": "code",
   "execution_count": 128,
   "id": "298e2d2e",
   "metadata": {},
   "outputs": [],
   "source": [
    "new_timeSeries = []\n",
    "for i in range(0, 168,1):\n",
    "    new_timeSeries.append((milk.loc[milk.index[i]]['milk'])/p_array[i])"
   ]
  },
  {
   "cell_type": "code",
   "execution_count": 129,
   "id": "c23c38e1",
   "metadata": {},
   "outputs": [
    {
     "data": {
      "text/plain": [
       "[19.0,\n",
       " 20.035714285714285,\n",
       " 20.64516129032258,\n",
       " 21.866666666666667,\n",
       " 23.451612903225808,\n",
       " 23.233333333333334,\n",
       " 20.64516129032258,\n",
       " 19.322580645161292,\n",
       " 18.933333333333334,\n",
       " 18.612903225806452,\n",
       " 18.433333333333334,\n",
       " 18.774193548387096,\n",
       " 19.35483870967742,\n",
       " 20.214285714285715,\n",
       " 21.06451612903226,\n",
       " 22.433333333333334,\n",
       " 23.93548387096774,\n",
       " 23.866666666666667,\n",
       " 21.29032258064516,\n",
       " 19.903225806451612,\n",
       " 19.433333333333334,\n",
       " 18.93548387096774,\n",
       " 18.833333333333332,\n",
       " 19.29032258064516,\n",
       " 20.258064516129032,\n",
       " 21.310344827586206,\n",
       " 22.193548387096776,\n",
       " 23.5,\n",
       " 24.838709677419356,\n",
       " 24.533333333333335,\n",
       " 21.870967741935484,\n",
       " 20.612903225806452,\n",
       " 20.133333333333333,\n",
       " 19.70967741935484,\n",
       " 19.8,\n",
       " 20.451612903225808,\n",
       " 21.225806451612904,\n",
       " 22.214285714285715,\n",
       " 22.870967741935484,\n",
       " 24.066666666666666,\n",
       " 25.225806451612904,\n",
       " 25.2,\n",
       " 22.64516129032258,\n",
       " 21.06451612903226,\n",
       " 20.5,\n",
       " 20.032258064516128,\n",
       " 20.066666666666666,\n",
       " 20.483870967741936,\n",
       " 21.838709677419356,\n",
       " 22.678571428571427,\n",
       " 23.741935483870968,\n",
       " 25.166666666666668,\n",
       " 26.161290322580644,\n",
       " 26.6,\n",
       " 23.70967741935484,\n",
       " 22.483870967741936,\n",
       " 22.033333333333335,\n",
       " 21.516129032258064,\n",
       " 21.5,\n",
       " 22.193548387096776,\n",
       " 23.0,\n",
       " 23.821428571428573,\n",
       " 24.580645161290324,\n",
       " 26.133333333333333,\n",
       " 27.0,\n",
       " 27.233333333333334,\n",
       " 24.741935483870968,\n",
       " 23.29032258064516,\n",
       " 22.7,\n",
       " 22.161290322580644,\n",
       " 22.0,\n",
       " 22.516129032258064,\n",
       " 23.129032258064516,\n",
       " 24.0,\n",
       " 25.0,\n",
       " 26.533333333333335,\n",
       " 27.677419354838708,\n",
       " 27.533333333333335,\n",
       " 25.258064516129032,\n",
       " 23.870967741935484,\n",
       " 23.366666666666667,\n",
       " 22.774193548387096,\n",
       " 22.566666666666666,\n",
       " 22.93548387096774,\n",
       " 23.677419354838708,\n",
       " 24.642857142857142,\n",
       " 25.322580645161292,\n",
       " 26.833333333333332,\n",
       " 28.096774193548388,\n",
       " 28.166666666666668,\n",
       " 25.838709677419356,\n",
       " 24.64516129032258,\n",
       " 24.166666666666668,\n",
       " 23.322580645161292,\n",
       " 23.0,\n",
       " 23.677419354838708,\n",
       " 24.193548387096776,\n",
       " 25.25,\n",
       " 26.032258064516128,\n",
       " 27.466666666666665,\n",
       " 28.580645161290324,\n",
       " 28.633333333333333,\n",
       " 26.419354838709676,\n",
       " 25.258064516129032,\n",
       " 24.666666666666668,\n",
       " 24.096774193548388,\n",
       " 23.7,\n",
       " 24.225806451612904,\n",
       " 25.93548387096774,\n",
       " 27.0,\n",
       " 27.741935483870968,\n",
       " 29.266666666666666,\n",
       " 30.387096774193548,\n",
       " 30.433333333333334,\n",
       " 28.032258064516128,\n",
       " 26.903225806451612,\n",
       " 26.333333333333332,\n",
       " 25.806451612903224,\n",
       " 25.433333333333334,\n",
       " 25.806451612903224,\n",
       " 26.64516129032258,\n",
       " 27.551724137931036,\n",
       " 28.70967741935484,\n",
       " 30.0,\n",
       " 31.0,\n",
       " 31.166666666666668,\n",
       " 28.838709677419356,\n",
       " 27.580645161290324,\n",
       " 26.966666666666665,\n",
       " 26.129032258064516,\n",
       " 25.533333333333335,\n",
       " 25.967741935483872,\n",
       " 26.483870967741936,\n",
       " 27.607142857142858,\n",
       " 28.483870967741936,\n",
       " 29.933333333333334,\n",
       " 30.870967741935484,\n",
       " 30.8,\n",
       " 28.419354838709676,\n",
       " 27.0,\n",
       " 26.133333333333333,\n",
       " 25.516129032258064,\n",
       " 25.333333333333332,\n",
       " 25.870967741935484,\n",
       " 26.70967741935484,\n",
       " 27.785714285714285,\n",
       " 28.677419354838708,\n",
       " 30.066666666666666,\n",
       " 31.258064516129032,\n",
       " 31.566666666666666,\n",
       " 29.29032258064516,\n",
       " 27.967741935483872,\n",
       " 27.166666666666668,\n",
       " 26.193548387096776,\n",
       " 25.766666666666666,\n",
       " 26.225806451612904,\n",
       " 26.903225806451612,\n",
       " 27.928571428571427,\n",
       " 28.774193548387096,\n",
       " 30.1,\n",
       " 31.161290322580644,\n",
       " 31.233333333333334,\n",
       " 28.903225806451612,\n",
       " 27.677419354838708,\n",
       " 27.233333333333334,\n",
       " 26.677419354838708,\n",
       " 26.566666666666666,\n",
       " 27.193548387096776]"
      ]
     },
     "execution_count": 129,
     "metadata": {},
     "output_type": "execute_result"
    }
   ],
   "source": [
    "new_timeSeries"
   ]
  },
  {
   "cell_type": "code",
   "execution_count": 131,
   "id": "f3a3f727",
   "metadata": {},
   "outputs": [
    {
     "data": {
      "text/plain": [
       "[<matplotlib.lines.Line2D at 0x1e0501c3af0>]"
      ]
     },
     "execution_count": 131,
     "metadata": {},
     "output_type": "execute_result"
    },
    {
     "data": {
      "image/png": "[encoded data removed]",
      "text/plain": [
       "<Figure size 432x288 with 1 Axes>"
      ]
     },
     "metadata": {
      "needs_background": "light"
     },
     "output_type": "display_data"
    }
   ],
   "source": [
    "y = new_timeSeries\n",
    "x = range(0,168,1)\n",
    "plt.plot(x,y,color='b')"
   ]
  },
  {
   "cell_type": "code",
   "execution_count": 133,
   "id": "180ad148",
   "metadata": {},
   "outputs": [
    {
     "data": {
      "text/plain": [
       "4166.326661899464"
      ]
     },
     "execution_count": 133,
     "metadata": {},
     "output_type": "execute_result"
    }
   ],
   "source": [
    "summa_2 = sum(new_timeSeries)\n",
    "summa_2"
   ]
  },
  {
   "cell_type": "markdown",
   "id": "dc9ad8bd",
   "metadata": {},
   "source": [
    "## Ответ  4166.33"
   ]
  },
  {
   "cell_type": "code",
   "execution_count": 67,
   "id": "7425613c",
   "metadata": {},
   "outputs": [],
   "source": []
  },
  {
   "cell_type": "code",
   "execution_count": 29,
   "id": "3f4dae1c",
   "metadata": {},
   "outputs": [
    {
     "data": {
      "text/plain": [
       "31"
      ]
     },
     "execution_count": 29,
     "metadata": {},
     "output_type": "execute_result"
    }
   ],
   "source": [
    "p"
   ]
  },
  {
   "cell_type": "code",
   "execution_count": null,
   "id": "99dd5f58",
   "metadata": {},
   "outputs": [],
   "source": []
  }
 ],
 "metadata": {
  "kernelspec": {
   "display_name": "Python 3",
   "language": "python",
   "name": "python3"
  },
  "language_info": {
   "codemirror_mode": {
    "name": "ipython",
    "version": 3
   },
   "file_extension": ".py",
   "mimetype": "text/x-python",
   "name": "python",
   "nbconvert_exporter": "python",
   "pygments_lexer": "ipython3",
   "version": "3.8.10"
  }
 },
 "nbformat": 4,
 "nbformat_minor": 5
}
